{
 "cells": [
  {
   "cell_type": "markdown",
   "id": "52a8b441-37fd-4cba-8c24-ad9c1e4c3ade",
   "metadata": {},
   "source": [
    "# Introduction\n",
    "\n",
    "This notebook will cover customer churn prediction, \n",
    "trying to predict customers with a higher probability of continuing with their account or not.\n",
    "\n",
    "I'll try to address the problem using this framework:\n",
    "\n",
    "**framework:**\n",
    "\n",
    "* Problem definition\n",
    "* Data exploration\n",
    "* evaluation\n",
    "* Features\n",
    "* Modelling\n",
    "* Experimentationation"
   ]
  },
  {
   "cell_type": "markdown",
   "id": "d4a4f2f3-6550-4be8-bb98-d5cd71089245",
   "metadata": {},
   "source": [
    "## Importing Tools"
   ]
  },
  {
   "cell_type": "code",
   "execution_count": 3,
   "id": "1bbea30f-54cb-4edd-9837-3e65b0a5b569",
   "metadata": {},
   "outputs": [],
   "source": [
    "import pandas as pd\n",
    "import numpy as np\n",
    "import matplotlib.pyplot as plt\n",
    "import sklearn\n",
    "\n",
    "# for plots to appear inside notebook\n",
    "%matplotlib inline"
   ]
  },
  {
   "cell_type": "code",
   "execution_count": null,
   "id": "3b1d8cdb-de9d-4ab0-b864-220ec15c9a2f",
   "metadata": {},
   "outputs": [],
   "source": []
  }
 ],
 "metadata": {
  "kernelspec": {
   "display_name": "Python 3 (ipykernel)",
   "language": "python",
   "name": "python3"
  },
  "language_info": {
   "codemirror_mode": {
    "name": "ipython",
    "version": 3
   },
   "file_extension": ".py",
   "mimetype": "text/x-python",
   "name": "python",
   "nbconvert_exporter": "python",
   "pygments_lexer": "ipython3",
   "version": "3.11.5"
  }
 },
 "nbformat": 4,
 "nbformat_minor": 5
}
